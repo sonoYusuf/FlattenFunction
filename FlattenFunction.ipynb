{
 "cells": [
  {
   "cell_type": "code",
   "execution_count": 1,
   "id": "fb4b89ec",
   "metadata": {},
   "outputs": [],
   "source": [
    "# 1- Bir listeyi düzleştiren (flatten) fonksiyon yazın.\n",
    "# Elemanları birden çok katmanlı listelerden ([[3],2] gibi) oluşabileceği gibi, non-scalar verilerden de oluşabilir.\n",
    "\n",
    "def flatten_list(nested_list):\n",
    "    flat_list=[]\n",
    "    \n",
    "    for item in nested_list:\n",
    "        if isinstance(item,list):\n",
    "            flat_list.extend(flatten_list(item))\n",
    "        else:\n",
    "            flat_list.append(item)\n",
    "          \n",
    "    return flat_list   \n",
    "            "
   ]
  },
  {
   "cell_type": "code",
   "execution_count": 2,
   "id": "ce1bee86",
   "metadata": {},
   "outputs": [],
   "source": [
    "input_list = [[1, 'a', ['cat'], 2], [[[3]], 'dog'], 4, 5]\n",
    "\n",
    "output_list = flatten_list(input_list)"
   ]
  },
  {
   "cell_type": "code",
   "execution_count": 3,
   "id": "299b19c5",
   "metadata": {},
   "outputs": [
    {
     "name": "stdout",
     "output_type": "stream",
     "text": [
      "[1, 'a', 'cat', 2, 3, 'dog', 4, 5]\n"
     ]
    }
   ],
   "source": [
    "print(output_list)"
   ]
  },
  {
   "cell_type": "code",
   "execution_count": 4,
   "id": "7935086b",
   "metadata": {},
   "outputs": [],
   "source": [
    "# 2- Verilen listenin içindeki elemanları tersine döndüren bir fonksiyon yazın. \n",
    "# Eğer listenin içindeki elemanlar da liste içeriyorsa onların elemanlarını da tersine döndürün.\n",
    "\n",
    "def reverse_nested_list(nested_list):\n",
    "    reversed_list = []\n",
    "    \n",
    "    for item in reversed(nested_list):\n",
    "        if isinstance(item,list):\n",
    "            reversed_list.append(reverse_nested_list(item))\n",
    "        else:\n",
    "            reversed_list.append(item)\n",
    "            \n",
    "    return reversed_list        \n",
    "        "
   ]
  },
  {
   "cell_type": "code",
   "execution_count": 5,
   "id": "188fc960",
   "metadata": {},
   "outputs": [],
   "source": [
    "input_list = [[1, 2], [3, 4], [5, 6, 7]]\n",
    "\n",
    "output_list = reverse_nested_list(input_list)"
   ]
  },
  {
   "cell_type": "code",
   "execution_count": 6,
   "id": "0edfa1c3",
   "metadata": {},
   "outputs": [
    {
     "name": "stdout",
     "output_type": "stream",
     "text": [
      "[[7, 6, 5], [4, 3], [2, 1]]\n"
     ]
    }
   ],
   "source": [
    "print(output_list)"
   ]
  },
  {
   "cell_type": "code",
   "execution_count": null,
   "id": "86fb4051",
   "metadata": {},
   "outputs": [],
   "source": []
  }
 ],
 "metadata": {
  "kernelspec": {
   "display_name": "Python 3 (ipykernel)",
   "language": "python",
   "name": "python3"
  },
  "language_info": {
   "codemirror_mode": {
    "name": "ipython",
    "version": 3
   },
   "file_extension": ".py",
   "mimetype": "text/x-python",
   "name": "python",
   "nbconvert_exporter": "python",
   "pygments_lexer": "ipython3",
   "version": "3.11.5"
  }
 },
 "nbformat": 4,
 "nbformat_minor": 5
}
